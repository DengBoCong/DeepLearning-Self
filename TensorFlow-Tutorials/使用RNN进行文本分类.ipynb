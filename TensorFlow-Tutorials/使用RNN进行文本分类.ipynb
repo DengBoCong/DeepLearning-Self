{
  "nbformat": 4,
  "nbformat_minor": 0,
  "metadata": {
    "colab": {
      "name": "使用RNN进行文本分类.ipynb",
      "provenance": [],
      "authorship_tag": "ABX9TyP6m2iexwbD22iHNcrbTnEO",
      "include_colab_link": true
    },
    "kernelspec": {
      "name": "python3",
      "display_name": "Python 3"
    },
    "accelerator": "GPU"
  },
  "cells": [
    {
      "cell_type": "markdown",
      "metadata": {
        "id": "view-in-github",
        "colab_type": "text"
      },
      "source": [
        "<a href=\"https://colab.research.google.com/github/DengBoCong/DeepLearning-Self/blob/master/TensorFlow-Tutorials/%E4%BD%BF%E7%94%A8RNN%E8%BF%9B%E8%A1%8C%E6%96%87%E6%9C%AC%E5%88%86%E7%B1%BB.ipynb\" target=\"_parent\"><img src=\"https://colab.research.google.com/assets/colab-badge.svg\" alt=\"Open In Colab\"/></a>"
      ]
    },
    {
      "cell_type": "code",
      "metadata": {
        "id": "IyWxxWFIo0T9",
        "colab_type": "code",
        "colab": {
          "base_uri": "https://localhost:8080/",
          "height": 1000
        },
        "outputId": "c0c36099-c216-45f0-99d6-807ad441621b"
      },
      "source": [
        "import tensorflow_datasets as tfds\n",
        "import tensorflow as tf\n",
        "from tensorflow.keras import layers\n",
        "import matplotlib.pyplot as plt\n",
        "\n",
        "def plot_graphs(history, metric):\n",
        "  plt.plot(history.history[metric])\n",
        "  plt.plot(history.history['val_'+metric], '')\n",
        "  plt.xlabel(\"Epochs\")\n",
        "  plt.ylabel(metric)\n",
        "  plt.legend([metric], 'val_'+metric)\n",
        "  plt.show()\n",
        "\n",
        "dataset, info = tfds.load('imdb_reviews/subwords8k', with_info=True,\n",
        "                as_supervised=True)\n",
        "train_dataset, test_dataset = dataset['train'], dataset['test']\n",
        "\n",
        "encoder = info.features['text'].encoder\n",
        "# print('Vocabulary size: {}'.format(encoder.vocab_size))\n",
        "# print(info)\n",
        "\n",
        "# sample_string = 'Hello TensorFlow.'\n",
        "# encoded_string = encoder.encode(sample_string)\n",
        "# print('Encoded string is{}'.format(encoded_string))\n",
        "\n",
        "# original_string = encoder.decode(encoded_string)\n",
        "# print('The original string: \"{}\"'.format(original_string))\n",
        "\n",
        "# assert original_string == sample_string\n",
        "\n",
        "# for index in encoded_string:\n",
        "#   print('{} ----> {}'.format(index, encoder.decode([index])))\n",
        "\n",
        "BUFFER_SIZE = 10000\n",
        "BATCH_SIZE = 64\n",
        "\n",
        "train_dataset = train_dataset.shuffle(BUFFER_SIZE).padded_batch(BATCH_SIZE)\n",
        "\n",
        "test_dataset = test_dataset.padded_batch(BATCH_SIZE)\n",
        "\n",
        "model = tf.keras.Sequential([\n",
        "  layers.Embedding(encoder.vocab_size, 64),\n",
        "  layers.Bidirectional(layers.LSTM(64)),\n",
        "  layers.Dense(64, activation='relu'),\n",
        "  layers.Dense(1)\n",
        "])\n",
        "\n",
        "model.compile(loss=tf.keras.losses.BinaryCrossentropy(from_logits=True),\n",
        "          optimizer=tf.keras.optimizers.Adam(1e-4),\n",
        "          metrics=['accuracy'])\n",
        "\n",
        "history = model.fit(train_dataset, epochs=10,\n",
        "            validation_data=test_dataset, \n",
        "            validation_steps=30)\n",
        "\n",
        "test_loss, test_acc = model.evaluate(test_dataset)\n",
        "\n",
        "print('Test Loss: {}'.format(test_loss))\n",
        "print('Test Accuracy: {}'.format(test_acc))\n",
        "\n",
        "def pad_to_size(vec, size):\n",
        "  zeros = [0] * (size - len(vec))\n",
        "  vec.extend(zeros)\n",
        "  return vec\n",
        "\n",
        "def sample_predict(sample_pred_text, pad):\n",
        "  encoded_sample_pred_text = encoder.encode(sample_pred_text)\n",
        "\n",
        "  if pad:\n",
        "    encoded_sample_pred_text = pad_to_size(encoded_sample_pred_text, 64)\n",
        "  encoded_sample_pred_text = tf.cast(encoded_sample_pred_text, tf.float32)\n",
        "  predictions = model.predict(tf.expand_dims(encoded_sample_pred_text, 0))\n",
        "\n",
        "  return (predictions)\n",
        "\n",
        "sample_pred_text = ('The movie was not good. The animation and the graphics '\n",
        "                    'were terrible. I would not recommend this movie.')\n",
        "predictions = sample_predict(sample_pred_text, pad=True)\n",
        "print(predictions)\n",
        "\n",
        "plot_graphs(history, 'accuracy')\n",
        "plot_graphs(history, 'loss')\n"
      ],
      "execution_count": 4,
      "outputs": [
        {
          "output_type": "stream",
          "text": [
            "Epoch 1/10\n",
            "391/391 [==============================] - 44s 112ms/step - loss: 0.6593 - accuracy: 0.5351 - val_loss: 0.5261 - val_accuracy: 0.7729\n",
            "Epoch 2/10\n",
            "391/391 [==============================] - 44s 112ms/step - loss: 0.5322 - accuracy: 0.7079 - val_loss: 0.4374 - val_accuracy: 0.8057\n",
            "Epoch 3/10\n",
            "391/391 [==============================] - 44s 113ms/step - loss: 0.3287 - accuracy: 0.8706 - val_loss: 0.3667 - val_accuracy: 0.8234\n",
            "Epoch 4/10\n",
            "391/391 [==============================] - 44s 113ms/step - loss: 0.2544 - accuracy: 0.9019 - val_loss: 0.3321 - val_accuracy: 0.8630\n",
            "Epoch 5/10\n",
            "391/391 [==============================] - 44s 113ms/step - loss: 0.2156 - accuracy: 0.9194 - val_loss: 0.3288 - val_accuracy: 0.8708\n",
            "Epoch 6/10\n",
            "391/391 [==============================] - 44s 112ms/step - loss: 0.1888 - accuracy: 0.9311 - val_loss: 0.3335 - val_accuracy: 0.8656\n",
            "Epoch 7/10\n",
            "391/391 [==============================] - 44s 114ms/step - loss: 0.1903 - accuracy: 0.9277 - val_loss: 0.3477 - val_accuracy: 0.8698\n",
            "Epoch 8/10\n",
            "391/391 [==============================] - 44s 113ms/step - loss: 0.1528 - accuracy: 0.9463 - val_loss: 0.3794 - val_accuracy: 0.8599\n",
            "Epoch 9/10\n",
            "391/391 [==============================] - 44s 113ms/step - loss: 0.1369 - accuracy: 0.9543 - val_loss: 0.3973 - val_accuracy: 0.8630\n",
            "Epoch 10/10\n",
            "391/391 [==============================] - 44s 112ms/step - loss: 0.1230 - accuracy: 0.9582 - val_loss: 0.4014 - val_accuracy: 0.8661\n",
            "391/391 [==============================] - 19s 49ms/step - loss: 0.4152 - accuracy: 0.8596\n",
            "Test Loss: 0.41518160700798035\n",
            "Test Accuracy: 0.8596400022506714\n",
            "[[-2.36376]]\n"
          ],
          "name": "stdout"
        },
        {
          "output_type": "stream",
          "text": [
            "/usr/local/lib/python3.6/dist-packages/ipykernel_launcher.py:11: UserWarning: Legend does not support 'accuracy' instances.\n",
            "A proxy artist may be used instead.\n",
            "See: http://matplotlib.org/users/legend_guide.html#creating-artists-specifically-for-adding-to-the-legend-aka-proxy-artists\n",
            "  # This is added back by InteractiveShellApp.init_path()\n"
          ],
          "name": "stderr"
        },
        {
          "output_type": "display_data",
          "data": {
            "image/png": "[encoded data removed]",
            "text/plain": [
              "<Figure size 432x288 with 1 Axes>"
            ]
          },
          "metadata": {
            "tags": [],
            "needs_background": "light"
          }
        },
        {
          "output_type": "stream",
          "text": [
            "/usr/local/lib/python3.6/dist-packages/ipykernel_launcher.py:11: UserWarning: Legend does not support 'loss' instances.\n",
            "A proxy artist may be used instead.\n",
            "See: http://matplotlib.org/users/legend_guide.html#creating-artists-specifically-for-adding-to-the-legend-aka-proxy-artists\n",
            "  # This is added back by InteractiveShellApp.init_path()\n"
          ],
          "name": "stderr"
        },
        {
          "output_type": "display_data",
          "data": {
            "image/png": "[encoded data removed]",
            "text/plain": [
              "<Figure size 432x288 with 1 Axes>"
            ]
          },
          "metadata": {
            "tags": [],
            "needs_background": "light"
          }
        }
      ]
    }
  ]
}